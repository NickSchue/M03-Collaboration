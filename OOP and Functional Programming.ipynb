{
 "cells": [
  {
   "cell_type": "code",
   "execution_count": 1,
   "id": "d7e697f5",
   "metadata": {},
   "outputs": [],
   "source": [
    "#Sort array of 0s, 1s, and 2s\n",
    "class Solution:\n",
    "    def sort012(self,arr,n):\n",
    "        arr.sort()\n",
    "        return arr\n",
    "        \n",
    "solved_class = Solution()\n",
    "n = 5\n",
    "arr = [0, 2, 1, 2, 0]\n",
    "sorted_arr = solved_class.sort012(arr, n)\n",
    "\n",
    "\n"
   ]
  },
  {
   "cell_type": "code",
   "execution_count": 2,
   "id": "7e94233c",
   "metadata": {},
   "outputs": [
    {
     "name": "stdout",
     "output_type": "stream",
     "text": [
      "[0, 0, 1, 2, 2]\n"
     ]
    }
   ],
   "source": [
    "print(sorted_arr)"
   ]
  },
  {
   "cell_type": "code",
   "execution_count": 4,
   "id": "702b647a",
   "metadata": {},
   "outputs": [],
   "source": [
    "#Binary Search\n",
    "class Solution:\n",
    "    def binarysearch(self, arr, n, k):\n",
    "        try:\n",
    "            number = arr.index(k)\n",
    "            return number\n",
    "        except ValueError:\n",
    "            return -1\n"
   ]
  },
  {
   "cell_type": "code",
   "execution_count": 5,
   "id": "89639b7c",
   "metadata": {},
   "outputs": [
    {
     "name": "stdout",
     "output_type": "stream",
     "text": [
      "-1\n"
     ]
    }
   ],
   "source": [
    "sort = Solution()\n",
    "print(sort.binarysearch([1, 2, 3, 4, 5], 5, 6))"
   ]
  },
  {
   "cell_type": "code",
   "execution_count": null,
   "id": "4cdb11c5",
   "metadata": {},
   "outputs": [],
   "source": []
  }
 ],
 "metadata": {
  "kernelspec": {
   "display_name": "Python 3 (ipykernel)",
   "language": "python",
   "name": "python3"
  },
  "language_info": {
   "codemirror_mode": {
    "name": "ipython",
    "version": 3
   },
   "file_extension": ".py",
   "mimetype": "text/x-python",
   "name": "python",
   "nbconvert_exporter": "python",
   "pygments_lexer": "ipython3",
   "version": "3.11.5"
  }
 },
 "nbformat": 4,
 "nbformat_minor": 5
}
